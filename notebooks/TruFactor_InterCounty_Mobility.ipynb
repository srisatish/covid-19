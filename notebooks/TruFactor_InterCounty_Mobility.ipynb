{
 "cells": [
  {
   "cell_type": "markdown",
   "metadata": {},
   "source": [
    "<img src=\"https://trufactor.azureedge.net/assets/ui/images/trufactor-logo.png\" align=\"left\" width=\"30%\" height=\"20%\">"
   ]
  },
  {
   "cell_type": "markdown",
   "metadata": {},
   "source": [
    "\n",
    "# TruFactor COVID-19 Geo Mobility\n",
    "<p>TruFactor’s Geographic Mobility Dataset aims to provide a national and regional understanding of mobility changes across a significant portion of the United States while maintaining individual privacy. This dataset is intended to enable researchers, public officials and citizens to understand how population level behaviors are changing due to COVID-19 and the ensuing national, state and local response. \n",
    "\n",
    "Two datasets are being produced which may be used independently or in tandem to analyze how the population level mobility behaviors have changed. The first dataset provides intercounty travel patterns at a daily frequency. <b>TruFactor's InterCounty Mobility</b> dataset produces estimates of where a resident population is traveling to. This dataset can aid in understanding both the export and import flows of potentially infected populations. An example use of this dataset would be to model how a virus could spread overtime. Another potential use could be for modeling economic impacts due to reduced mobility patterns.\n",
    "\n",
    "The second dataset provides intracounty estimates of how mobility behaviors are changing by demographic group. <b>TruFactor's IntraCounty Mobility</b> dataset measures the change in travel behavior for a county’s residents by providing a decile distribution of the # of visited census tracts within the county. Travel behaviors for residents within a county by demographic group are provided to show how mobility is changing by age group at a daily frequency. Researchers and policymakers can understand how behaviors are changing in response to infection rates and policy shocks such as Stay At Home policies.\n",
    "    \n",
    "In this tutorial we will show you how to work with free samples of <b>[InterCounty Mobility](https://go.aws/3dyjYwJ)</b> that are published in [Amazon Data Exchange](https://aws.amazon.com/data-exchange/). We walk through several applications and show how some intelligent applications of these intelligence sets can power vertical oriented applications.    \n",
    "</p>  "
   ]
  },
  {
   "cell_type": "markdown",
   "metadata": {},
   "source": [
    "## Step 0: Import Libraries"
   ]
  },
  {
   "cell_type": "code",
   "execution_count": 1,
   "metadata": {},
   "outputs": [
    {
     "data": {},
     "metadata": {},
     "output_type": "display_data"
    },
    {
     "data": {},
     "metadata": {},
     "output_type": "display_data"
    },
    {
     "data": {
      "text/html": [
       "\n",
       "<div class=\"logo-block\">\n",
       "<img src='data:image/png;base64,iVBORw0KGgoAAAANSUhEUgAAAEAAAABACAYAAACqaXHeAAAABHNCSVQICAgIfAhkiAAAAAlwSFlz\n",
       "AAAB+wAAAfsBxc2miwAAABl0RVh0U29mdHdhcmUAd3d3Lmlua3NjYXBlLm9yZ5vuPBoAAA6zSURB\n",
       "VHic7ZtpeFRVmsf/5966taWqUlUJ2UioBBJiIBAwCZtog9IOgjqACsogKtqirT2ttt069nQ/zDzt\n",
       "tI4+CrJIREFaFgWhBXpUNhHZQoKBkIUASchWla1S+3ar7r1nPkDaCAnZKoQP/D7mnPOe9/xy76n3\n",
       "nFSAW9ziFoPFNED2LLK5wcyBDObkb8ZkxuaoSYlI6ZcOKq1eWFdedqNzGHQBk9RMEwFAASkk0Xw3\n",
       "ETacDNi2vtvc7L0ROdw0AjoSotQVkKSvHQz/wRO1lScGModBFbDMaNRN1A4tUBCS3lk7BWhQkgpD\n",
       "lG4852/+7DWr1R3uHAZVQDsbh6ZPN7CyxUrCzJMRouusj0ipRwD2uKm0Zn5d2dFwzX1TCGhnmdGo\n",
       "G62Nna+isiUqhkzuKrkQaJlPEv5mFl2fvGg2t/VnzkEV8F5ioioOEWkLG86fvbpthynjdhXYZziQ\n",
       "x1hC9J2NFyi8vCTt91Fh04KGip0AaG9zuCk2wQCVyoNU3Hjezee9bq92duzzTmxsRJoy+jEZZZYo\n",
       "GTKJ6SJngdJqAfRzpze0+jHreUtPc7gpBLQnIYK6BYp/uGhw9YK688eu7v95ysgshcg9qSLMo3JC\n",
       "4jqLKQFBgdKDPoQ+Pltb8dUyQLpeDjeVgI6EgLIQFT5tEl3rn2losHVsexbZ3EyT9wE1uGdkIPcy\n",
       "BGxn8QUq1QrA5nqW5i2tLqvrrM9NK6AdkVIvL9E9bZL/oyfMVd/jqvc8LylzRBKDJSzIExwhQzuL\n",
       "QYGQj4rHfFTc8mUdu3E7yoLtbTe9gI4EqVgVkug2i5+uXGo919ixbRog+3fTbQ8qJe4ZOYNfMoTI\n",
       "OoshUNosgO60AisX15aeI2PSIp5KiFLI9ubb1vV3Qb2ltwLakUCDAkWX7/nHKRmmGIl9VgYsUhJm\n",
       "2NXjKYADtM1ygne9QQDIXlk49FBstMKx66D1v4+XuQr7vqTe0VcBHQlRWiOCbmmSYe2SqtL6q5rJ\n",
       "zsTb7lKx3FKOYC4DoqyS/B5bvLPxvD9Qtf6saxYLQGJErmDOdOMr/zo96km1nElr8bmPOBwI9COv\n",
       "HnFPRIwmkSOv9kcAS4heRsidOkpeWBgZM+UBrTFAXNYL5Vf2ii9c1trNzpYdaoVil3WIc+wdk+gQ\n",
       "noie3ecCcxt9ITcLAPWt/laGEO/9U6PmzZkenTtsSMQ8uYywJVW+grCstAvCIaAdArAsIWkRDDs/\n",
       "KzLm2YcjY1Lv0UdW73HabE9n6V66cxSzfEmuJssTpKGVp+0vHq73FwL46eOjpMpbRAnNmJFrGJNu\n",
       "Ukf9Yrz+3rghiumCKNXXWPhLYcjxGsIpoCMsIRoFITkW8AuyM8jC1+/QLx4bozCEJIq38+1rtpR6\n",
       "V/yzb8eBlRb3fo5l783N0CWolAzJHaVNzkrTzlEp2bQ2q3TC5gn6wpnoQAmwSiGh2GitnTmVMc5O\n",
       "UyfKWUKCIsU7+fZDKwqdT6DDpvkzAX4/+AMFjk0tDp5GRXLpQ2MUmhgDp5gxQT8+Y7hyPsMi8uxF\n",
       "71H0oebujHALECjFKaW9Lm68n18wXp2kVzIcABytD5iXFzg+WVXkegpAsOOYziqo0OkK76GyquC3\n",
       "ltZAzMhhqlSNmmWTE5T6e3IN05ITFLM4GdN0vtZ3ob8Jh1NAKXFbm5PtLU/eqTSlGjkNAJjdgn/N\n",
       "aedXa0tdi7+t9G0FIF49rtMSEgAs1kDLkTPO7ebm4IUWeyh1bKomXqlgMG6kJmHcSM0clYLJ8XtR\n",
       "1GTnbV3F6I5wCGikAb402npp1h1s7LQUZZSMIfALFOuL3UUrfnS8+rez7v9qcold5tilgHbO1fjK\n",
       "9ubb17u9oshxzMiUBKXWqJNxd+fqb0tLVs4lILFnK71H0Ind7uiPgACVcFJlrb0tV6DzxqqTIhUM\n",
       "CwDf1/rrVhTa33/3pGPxJYdQ2l2cbgVcQSosdx8uqnDtbGjh9SlDVSMNWhlnilfqZk42Th2ZpLpf\n",
       "xrHec5e815zrr0dfBZSwzkZfqsv+1FS1KUknUwPARVvItfKUY+cn57yP7qv07UE3p8B2uhUwLk09\n",
       "e0SCOrK+hbdYHYLjRIl71wWzv9jpEoeOHhGRrJAzyEyNiJuUqX0g2sBN5kGK6y2Blp5M3lsB9Qh4\n",
       "y2Ja6x6+i0ucmKgwMATwhSjdUu49tKrQ/pvN5d53ml2CGwCmJipmKjgmyuaXzNeL2a0AkQ01Th5j\n",
       "2DktO3Jyk8f9vcOBQHV94OK+fPumJmvQHxJoWkaKWq9Vs+yUsbq0zGT1I4RgeH2b5wef7+c7bl8F\n",
       "eKgoHVVZa8ZPEORzR6sT1BzDUAD/d9F78e2Tzv99v8D+fLVTqAKAsbGamKey1Mt9Ann4eH3gTXTz\n",
       "idWtAJ8PQWOk7NzSeQn/OTHDuEikVF1R4z8BQCy+6D1aWRfY0tTGG2OM8rRoPaeIj5ZHzJxszElN\n",
       "VM8K8JS5WOfv8mzRnQAKoEhmt8gyPM4lU9SmBK1MCQBnW4KONT86v1hZ1PbwSXPw4JWussVjtH9Y\n",
       "NCoiL9UoH/6PSu8jFrfY2t36erQHXLIEakMi1SydmzB31h3GGXFDFNPaK8Rme9B79Ixrd0WN+1ij\n",
       "NRQ/doRmuFLBkHSTOm5GruG+pFjFdAmorG4IXH1Qua6ASniclfFtDYt+oUjKipPrCQB7QBQ2lrgP\n",
       "fFzm+9XWUtcqJ3/5vDLDpJ79XHZk3u8nGZ42qlj1+ydtbxysCezrydp6ugmipNJ7WBPB5tydY0jP\n",
       "HaVNzs3QzeE4ZpTbI+ZbnSFPbVOw9vsfnVvqWnirPyCNGD08IlqtYkh2hjZ5dErEQzoNm+6ykyOt\n",
       "Lt5/PQEuSRRKo22VkydK+vvS1XEKlhCJAnsqvcVvH7f/ZU2R67eXbMEGAMiIV5oWZWiWvz5Fv2xG\n",
       "sjqNJQRvn3Rs2lji/lNP19VjAQDgD7FHhujZB9OGqYxRkZxixgRDVlqS6uEOFaJUVu0rPFzctrnF\n",
       "JqijImVp8dEKVWyUXDk92zAuMZ6bFwpBU1HrOw6AdhQgUooChb0+ItMbWJitSo5Ws3IAOGEOtL53\n",
       "0vHZih9sC4vtofZ7Qu6523V/fmGcds1TY3V36pUsBwAbSlxnVh2xLfAD/IAIMDf7XYIkNmXfpp2l\n",
       "18rkAJAy9HKFaIr/qULkeQQKy9zf1JgDB2uaeFNGijo5QsUyacNUUTOnGO42xSnv4oOwpDi1zYkc\n",
       "efUc3I5Gk6PhyTuVKaOGyLUAYPGIoY9Pu/atL/L92+4q9wbflRJ2Trpm/jPjdBtfnqB/dIThcl8A\n",
       "KG7hbRuKnb8qsQsVvVlTrwQAQMUlf3kwJI24Z4JhPMtcfng5GcH49GsrxJpGvvHIaeem2ma+KSjQ\n",
       "lIwUdYyCY8j4dE1KzijNnIP2llF2wcXNnsoapw9XxsgYAl6k+KzUXbi2yP3KR2ecf6z3BFsBICdW\n",
       "nvnIaG3eHybqX7vbpEqUMT+9OL4Qpe8VON7dXuFd39v19FoAABRVePbGGuXTszO0P7tu6lghUonE\n",
       "llRdrhArLvmKdh9u29jcFiRRkfLUxBiFNiqSU9icoZQHo5mYBI1MBgBH6wMNb+U7Pnw337H4gi1Y\n",
       "ciWs+uks3Z9fztUvfzxTm9Ne8XXkvQLHNytOOZeiD4e0PgkAIAYCYknKUNUDSXEKzdWNpnil7r4p\n",
       "xqkjTarZMtk/K8TQ6Qve78qqvXurGwIJqcOUKfUWHsm8KGvxSP68YudXq4pcj39X49uOK2X142O0\n",
       "Tz5/u/7TVybqH0rSya6ZBwD21/gubbrgWdDgEOx9WUhfBaC2ibcEBYm7a7x+ukrBMNcEZggyR0TE\n",
       "T8zUPjikQ4VosQZbTpS4vqizBKvqmvjsqnpfzaZyx9JPiz1/bfGKdgD45XB1zoIMzYbfTdS/NClB\n",
       "Gct0USiY3YL/g0LHy/uq/Ef6uo5+n0R/vyhp17Klpge763f8rMu6YU/zrn2nml+2WtH+Z+5IAAFc\n",
       "2bUTdTDOSNa9+cQY7YLsOIXhevEkCvzph7a8laecz/Un/z4/Ae04XeL3UQb57IwU9ZDr9UuKVajv\n",
       "nxp1+1UVIo/LjztZkKH59fO3G/JemqCfmaCRqbqbd90ZZ8FfjtkfAyD0J/9+C2h1hDwsSxvGjNDc\n",
       "b4zk5NfrSwiQblLHzZhg+Jf4aPlUwpDqkQqa9nimbt1/TDH8OitGMaQnj+RJS6B1fbF7SY1TqO5v\n",
       "/v0WAADl1f7zokgS7s7VT2DZ7pegUjBM7mjtiDZbcN4j0YrHH0rXpCtY0qPX0cVL0rv5jv/ZXend\n",
       "0u/EESYBAFBU4T4Qa5TflZOhTe7pmKpaP8kCVUVw1+yhXfJWvn1P3hnXi33JsTN6PnP3hHZ8Z3/h\n",
       "aLHzmkNPuPj7Bc/F/Q38CwjTpSwQXgE4Vmwry9tpfq/ZFgqFMy4AVDtCvi8rvMvOmv0N4YwbVgEA\n",
       "sPM72/KVnzfspmH7HQGCRLG2yL1+z8XwvPcdCbsAANh+xPzstgMtxeGKt+6MK3/tacfvwhWvIwMi\n",
       "oKEBtm0H7W+UVfkc/Y1V0BhoPlDr/w1w/eu1vjIgAgDg22OtX6/eYfnEz/focrZTHAFR+PSs56/7\n",
       "q32nwpjazxgwAQCwcU/T62t3WL7r6/jVRa6/byp1rei+Z98ZUAEAhEPHPc8fKnTU9nbgtnOe8h0l\n",
       "9hcGIqmODLQAHCy2Xti6v/XNRivf43f4fFvIteu854+VHnR7q9tfBlwAAGz+pnndB9vM26UebAe8\n",
       "SLHujPOTPVW+rwY+sxskAAC2HrA8t2Vvc7ffP1r9o+vwR2dcr92InIAbKKC1FZ5tB1tf+/G8p8sv\n",
       "N/9Q5zd/XR34LYCwV5JdccMEAMDBk45DH243r/X4xGvqxFa/GNpS7n6rwOwNWwHVE26oAADYurf1\n",
       "zx/utOzt+DMKYM0p17YtZZ5VNzqfsB2HewG1WXE8PoZ7gOclbTIvynZf9JV+fqZtfgs/8F/Nu5rB\n",
       "EIBmJ+8QRMmpU7EzGRsf2FzuePqYRbzh/zE26EwdrT10f6r6o8HOYzCJB9Dpff8tbnGLG8L/A/WE\n",
       "roTBs2RqAAAAAElFTkSuQmCC'\n",
       "     style='height:25px; border-radius:12px; display: inline-block; float: left; vertical-align: middle'></img>\n",
       "\n",
       "\n",
       "  <img src='data:image/png;base64,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'\n",
       "       style='height:15px; border-radius:12px; display: inline-block; float: left'></img>\n",
       "  \n",
       "\n",
       "\n",
       "\n",
       "\n",
       "</div>\n"
      ]
     },
     "metadata": {},
     "output_type": "execute_result"
    }
   ],
   "source": [
    "import findspark\n",
    "findspark.init()\n",
    "from pyspark import SparkConf,AccumulatorParam, SparkContext\n",
    "from pyspark.sql import HiveContext, Column, Window, Row, DataFrame\n",
    "from pyspark.sql.types import *\n",
    "import pyspark.sql.functions as fns\n",
    "from pyspark.sql.functions import col, lit\n",
    "import pyspark\n",
    "\n",
    "import datetime\n",
    "\n",
    "import bokeh\n",
    "import holoviews as hv\n",
    "import sys\n",
    "from holoviews import opts\n",
    "\n",
    "hv.extension('bokeh')\n",
    "%matplotlib inline\n",
    "from shapely import geometry as gm\n",
    "import numpy as np\n",
    "import pandas as pd\n",
    "import datashader as ds\n",
    "import geopandas as gpd\n",
    "import geoviews as gv\n",
    "import seaborn as sns\n",
    "import matplotlib.pyplot as plt\n",
    "import os"
   ]
  },
  {
   "cell_type": "markdown",
   "metadata": {},
   "source": [
    "## Step 1: Measure Disease Spread\n",
    "\n",
    "<p> Now that we have a handle on the spread on social distancing, let's see how travel behaviors can influence the spread of the virus. Using <b>TruFactor's InterCounty Mobility</b> dataset one could calculate potential COVID-19 exports into an uninfected county. Given a set of infected counties, it is possible to calculate inflows to non-infected counties in a period and thus alter those non-infected counties infection forecasts. Using the Johns Hopkins dataset on COVID-19  we can illustrate this point. \n",
    "    \n",
    "First, we will show how mobile the US is by showing all the counties visited by those in infected counties during a day. Then we will show how seemingly small infection rates and combined with large mobility flows can lead to quick spread of infectious disease.\n",
    "<p>\n"
   ]
  },
  {
   "cell_type": "code",
   "execution_count": 3,
   "metadata": {},
   "outputs": [],
   "source": [
    "inter_path = 's3://psm-dev-datascience/Habiger/data/covid/InterCountyMobility'\n",
    "inter = spark.read.parquet(inter_path)"
   ]
  },
  {
   "cell_type": "code",
   "execution_count": 4,
   "metadata": {},
   "outputs": [
    {
     "name": "stdout",
     "output_type": "stream",
     "text": [
      "+-----------+--------------+--------------------+--------------------+--------+\n",
      "|home_county|visited_county|    visit_percentage|     visit_deviation|    date|\n",
      "+-----------+--------------+--------------------+--------------------+--------+\n",
      "|      13043|         13005|0.006484338862882565|1.791050267925214...|20200304|\n",
      "|      41019|         41065|0.002000415134627005|3.070948755625899E-5|20200304|\n",
      "|      48341|         08009|0.001652306095789...|5.375963748758073...|20200304|\n",
      "|      48339|         25027|1.149517277077063...|5.302953557754343E-8|20200304|\n",
      "|      48339|         48261|1.936350813243500...|5.066544892535140...|20200304|\n",
      "|      48339|         48141|1.523271595656976...|1.935155411794074...|20200304|\n",
      "|      48339|         06087|7.427904946746181E-5|1.500439593772780...|20200304|\n",
      "|      40049|         12095|0.009641801913824537|1.075192749751614...|20200304|\n",
      "|      49001|         49011|0.025510311602666143|                 0.0|20200304|\n",
      "|      42033|         51197|0.001225055104553...|1.343990937189518...|20200304|\n",
      "+-----------+--------------+--------------------+--------------------+--------+\n",
      "only showing top 10 rows\n",
      "\n"
     ]
    }
   ],
   "source": [
    "inter.show(10)"
   ]
  },
  {
   "cell_type": "markdown",
   "metadata": {},
   "source": [
    "<p> \n",
    "Next we will pull down a COVID-19 data set being maintained by Johns Hopikns CSSEG group and get county shapefiles for mapping purposes.\n",
    "</p>"
   ]
  },
  {
   "cell_type": "code",
   "execution_count": null,
   "metadata": {},
   "outputs": [],
   "source": [
    "%%bash\n",
    "cd /home/hadoop/\n",
    "git clone https://github.com/CSSEGISandData/COVID-19.git "
   ]
  },
  {
   "cell_type": "code",
   "execution_count": null,
   "metadata": {},
   "outputs": [],
   "source": [
    "%%bash \n",
    "cd /home/hadoop/\n",
    "wget https://www2.census.gov/geo/tiger/TIGER2018/COUNTY/tl_2018_us_county.zip\n",
    "unzip -d county_shp tl_2018_us_county.zip"
   ]
  },
  {
   "cell_type": "code",
   "execution_count": 9,
   "metadata": {},
   "outputs": [
    {
     "data": {
      "text/html": [
       "<div>\n",
       "<style scoped>\n",
       "    .dataframe tbody tr th:only-of-type {\n",
       "        vertical-align: middle;\n",
       "    }\n",
       "\n",
       "    .dataframe tbody tr th {\n",
       "        vertical-align: top;\n",
       "    }\n",
       "\n",
       "    .dataframe thead th {\n",
       "        text-align: right;\n",
       "    }\n",
       "</style>\n",
       "<table border=\"1\" class=\"dataframe\">\n",
       "  <thead>\n",
       "    <tr style=\"text-align: right;\">\n",
       "      <th></th>\n",
       "      <th>STATEFP</th>\n",
       "      <th>COUNTYFP</th>\n",
       "      <th>COUNTYNS</th>\n",
       "      <th>GEOID</th>\n",
       "      <th>NAME</th>\n",
       "      <th>NAMELSAD</th>\n",
       "      <th>LSAD</th>\n",
       "      <th>CLASSFP</th>\n",
       "      <th>MTFCC</th>\n",
       "      <th>CSAFP</th>\n",
       "      <th>CBSAFP</th>\n",
       "      <th>METDIVFP</th>\n",
       "      <th>FUNCSTAT</th>\n",
       "      <th>ALAND</th>\n",
       "      <th>AWATER</th>\n",
       "      <th>INTPTLAT</th>\n",
       "      <th>INTPTLON</th>\n",
       "      <th>geometry</th>\n",
       "    </tr>\n",
       "  </thead>\n",
       "  <tbody>\n",
       "    <tr>\n",
       "      <th>0</th>\n",
       "      <td>31</td>\n",
       "      <td>039</td>\n",
       "      <td>00835841</td>\n",
       "      <td>31039</td>\n",
       "      <td>Cuming</td>\n",
       "      <td>Cuming County</td>\n",
       "      <td>06</td>\n",
       "      <td>H1</td>\n",
       "      <td>G4020</td>\n",
       "      <td>None</td>\n",
       "      <td>None</td>\n",
       "      <td>None</td>\n",
       "      <td>A</td>\n",
       "      <td>1477652222</td>\n",
       "      <td>10690952</td>\n",
       "      <td>+41.9158651</td>\n",
       "      <td>-096.7885168</td>\n",
       "      <td>POLYGON ((-97.01952 42.00410, -97.01952 42.004...</td>\n",
       "    </tr>\n",
       "    <tr>\n",
       "      <th>1</th>\n",
       "      <td>53</td>\n",
       "      <td>069</td>\n",
       "      <td>01513275</td>\n",
       "      <td>53069</td>\n",
       "      <td>Wahkiakum</td>\n",
       "      <td>Wahkiakum County</td>\n",
       "      <td>06</td>\n",
       "      <td>H1</td>\n",
       "      <td>G4020</td>\n",
       "      <td>None</td>\n",
       "      <td>None</td>\n",
       "      <td>None</td>\n",
       "      <td>A</td>\n",
       "      <td>680956809</td>\n",
       "      <td>61588406</td>\n",
       "      <td>+46.2946377</td>\n",
       "      <td>-123.4244583</td>\n",
       "      <td>POLYGON ((-123.43639 46.23820, -123.44759 46.2...</td>\n",
       "    </tr>\n",
       "  </tbody>\n",
       "</table>\n",
       "</div>"
      ],
      "text/plain": [
       "  STATEFP COUNTYFP  COUNTYNS  GEOID       NAME          NAMELSAD LSAD CLASSFP  \\\n",
       "0      31      039  00835841  31039     Cuming     Cuming County   06      H1   \n",
       "1      53      069  01513275  53069  Wahkiakum  Wahkiakum County   06      H1   \n",
       "\n",
       "   MTFCC CSAFP CBSAFP METDIVFP FUNCSTAT       ALAND    AWATER     INTPTLAT  \\\n",
       "0  G4020  None   None     None        A  1477652222  10690952  +41.9158651   \n",
       "1  G4020  None   None     None        A   680956809  61588406  +46.2946377   \n",
       "\n",
       "       INTPTLON                                           geometry  \n",
       "0  -096.7885168  POLYGON ((-97.01952 42.00410, -97.01952 42.004...  \n",
       "1  -123.4244583  POLYGON ((-123.43639 46.23820, -123.44759 46.2...  "
      ]
     },
     "execution_count": 9,
     "metadata": {},
     "output_type": "execute_result"
    }
   ],
   "source": [
    "cnty = gpd.read_file('/home/hadoop/county_shp/')\n",
    "cnty.head(2)"
   ]
  },
  {
   "cell_type": "code",
   "execution_count": 29,
   "metadata": {},
   "outputs": [],
   "source": [
    "import os\n",
    "dat = []\n",
    "pth = '/home/hadoop/COVID-19/csse_covid_19_data/csse_covid_19_daily_reports/'\n",
    "for fl in os.listdir(pth):\n",
    "    if '.csv' in fl:\n",
    "        d = pd.read_csv(pth+fl)\n",
    "        d['date'] = datetime.datetime.strptime(fl.split('.csv')[0],'%m-%d-%Y').strftime('%Y%m%d')\n",
    "        dat.append(d)"
   ]
  },
  {
   "cell_type": "markdown",
   "metadata": {},
   "source": [
    "<p>\n",
    "The data structure has changed over time for COVID-19 reporting. Ultimately we'd like to extract county level data. Some data munging is required to get a common structure across time.\n",
    "    </p>"
   ]
  },
  {
   "cell_type": "code",
   "execution_count": 33,
   "metadata": {},
   "outputs": [],
   "source": [
    "conf = pd.concat(dat)"
   ]
  },
  {
   "cell_type": "code",
   "execution_count": 12,
   "metadata": {},
   "outputs": [
    {
     "data": {
      "text/plain": [
       "Gansu                     62\n",
       "Hebei                     62\n",
       "Shandong                  60\n",
       "Anhui                     60\n",
       "Chongqing                 60\n",
       "                          ..\n",
       "Bennington County, VT      1\n",
       "Northwest Territories      1\n",
       "Johnson County, IA         1\n",
       "Charlotte County, FL       1\n",
       "Spartanburg County, SC     1\n",
       "Name: Province/State, Length: 283, dtype: int64"
      ]
     },
     "execution_count": 12,
     "metadata": {},
     "output_type": "execute_result"
    }
   ],
   "source": [
    "conf['Province/State'].value_counts()"
   ]
  },
  {
   "cell_type": "code",
   "execution_count": 13,
   "metadata": {},
   "outputs": [
    {
     "data": {
      "text/plain": [
       "Texas                    1524\n",
       "Georgia                   960\n",
       "Virginia                  798\n",
       "Kentucky                  726\n",
       "Missouri                  698\n",
       "                         ... \n",
       "Northwest Territories       3\n",
       "Wuhan Evacuee               3\n",
       "Yukon                       2\n",
       "Jervis Bay Territory        1\n",
       "External territories        1\n",
       "Name: Province_State, Length: 135, dtype: int64"
      ]
     },
     "execution_count": 13,
     "metadata": {},
     "output_type": "execute_result"
    }
   ],
   "source": [
    "conf['Province_State'].value_counts()"
   ]
  },
  {
   "cell_type": "code",
   "execution_count": 14,
   "metadata": {},
   "outputs": [],
   "source": [
    "## Will need abbreviation mappings\n",
    "fips = pd.read_csv('state_fips.csv')\n",
    "fips['FIPS'] = fips.FIPS.map(lambda x: str(x).zfill(2))\n",
    "\n",
    "f = {}\n",
    "for i in fips.itertuples():\n",
    "    f[i.ST]=i.State\n",
    "    \n",
    "fi = {}\n",
    "for i in fips.itertuples():\n",
    "    fi[i.FIPS]=i.State"
   ]
  },
  {
   "cell_type": "code",
   "execution_count": 34,
   "metadata": {},
   "outputs": [
    {
     "name": "stderr",
     "output_type": "stream",
     "text": [
      "/home/hadoop/conda/lib/python3.7/site-packages/ipykernel_launcher.py:4: SettingWithCopyWarning: \n",
      "A value is trying to be set on a copy of a slice from a DataFrame\n",
      "\n",
      "See the caveats in the documentation: https://pandas.pydata.org/pandas-docs/stable/user_guide/indexing.html#returning-a-view-versus-a-copy\n",
      "  after removing the cwd from sys.path.\n",
      "/home/hadoop/conda/lib/python3.7/site-packages/ipykernel_launcher.py:5: SettingWithCopyWarning: \n",
      "A value is trying to be set on a copy of a slice from a DataFrame\n",
      "\n",
      "See the caveats in the documentation: https://pandas.pydata.org/pandas-docs/stable/user_guide/indexing.html#returning-a-view-versus-a-copy\n",
      "  \"\"\"\n"
     ]
    }
   ],
   "source": [
    "conf['County'] = conf['Province/State'].fillna('').map(lambda x: x.split(',')[0].strip().replace(' County','') if len(x.split(',')[-1].strip())<3 else None)\n",
    "conf['ST'] = conf['Province/State'].fillna('').map(lambda x: x.split(',')[-1].strip() if len(x.split(',')[-1].strip())<3 else None)\n",
    "conf['State'] = conf['Province/State'].fillna('').map(lambda x: x.split(',')[-1].strip() if len(x.split(',')[-1].strip())<3 else x)\n",
    "conf['State'][conf.State.str.len()<3] = conf['State'][conf.State.str.len()<3].map(f)\n",
    "conf['Country_Region'][conf['Country/Region']=='US'] = 'US'"
   ]
  },
  {
   "cell_type": "code",
   "execution_count": 35,
   "metadata": {},
   "outputs": [],
   "source": [
    "usc = conf[conf['Country_Region'].fillna('').str.contains('US')]\n",
    "usc.Admin2 = usc.Admin2.fillna(usc.County)\n",
    "usc.Province_State = usc.Province_State.fillna(usc.State)"
   ]
  },
  {
   "cell_type": "code",
   "execution_count": 36,
   "metadata": {},
   "outputs": [],
   "source": [
    "keep = ['Admin2','Province_State','Lat','Long_','date','Confirmed','Deaths','Recovered']\n",
    "usc = usc[keep]\n",
    "usc.columns = ['County','State','Lat','Lon','date','Confirmed','Deaths','Recovered']"
   ]
  },
  {
   "cell_type": "code",
   "execution_count": 37,
   "metadata": {},
   "outputs": [],
   "source": [
    "usc.sort_values('date',inplace=True)"
   ]
  },
  {
   "cell_type": "code",
   "execution_count": 38,
   "metadata": {},
   "outputs": [
    {
     "data": {
      "text/plain": [
       "<matplotlib.axes._subplots.AxesSubplot at 0x7f97320bb278>"
      ]
     },
     "execution_count": 38,
     "metadata": {},
     "output_type": "execute_result"
    },
    {
     "data": {
      "image/png": "[encoded data removed]",
      "text/plain": [
       "<Figure size 1080x432 with 1 Axes>"
      ]
     },
     "metadata": {
      "needs_background": "light"
     },
     "output_type": "display_data"
    }
   ],
   "source": [
    "fig,ax = plt.subplots(figsize=(15,6))\n",
    "sns.lineplot('date','Confirmed',hue='County',data=usc[usc.County.fillna('').str.contains('Westchester')])"
   ]
  },
  {
   "cell_type": "markdown",
   "metadata": {},
   "source": [
    "***"
   ]
  },
  {
   "cell_type": "markdown",
   "metadata": {},
   "source": [
    "## Step 2: Possible Infection Spread\n",
    "<p>\n",
    "Now that we have a dataset of COVID-19 cases, let's match back to a dataset of inter county travel. Given that a county has an infected population, we will presume the rest of the county has an infection probability equivalent to the infection rate of the county. We can use this to model the potential spread of COVID-19. First lets just understand how mobile the population of infected counties are.\n",
    "</p>"
   ]
  },
  {
   "cell_type": "code",
   "execution_count": 20,
   "metadata": {},
   "outputs": [],
   "source": [
    "co = pd.read_csv('co-est2019-alldata.csv',encoding='latin-1')\n",
    "co.STATE = co.STATE.map(lambda x: str(x).zfill(2))\n",
    "co.COUNTY = co.COUNTY.map(lambda x: str(x).zfill(3))\n",
    "co['pop'] = co.POPESTIMATE2019\n",
    "co['county'] = co.STATE+co.COUNTY\n",
    "\n",
    "copop = spark.createDataFrame(co[co.STNAME!=co.CTYNAME][['county','pop']])"
   ]
  },
  {
   "cell_type": "code",
   "execution_count": 22,
   "metadata": {},
   "outputs": [],
   "source": [
    "interp = inter.join(copop.withColumnRenamed('county','home_county'),'home_county').filter('date=20200212')"
   ]
  },
  {
   "cell_type": "code",
   "execution_count": 41,
   "metadata": {},
   "outputs": [],
   "source": [
    "covid = spark.createDataFrame(usc[usc.date=='20200212'][['date','Confirmed','County','State']])"
   ]
  },
  {
   "cell_type": "code",
   "execution_count": 24,
   "metadata": {},
   "outputs": [],
   "source": [
    "cfips = pd.read_csv('county_fips.csv',dtype=str)"
   ]
  },
  {
   "cell_type": "code",
   "execution_count": 25,
   "metadata": {},
   "outputs": [
    {
     "data": {
      "text/html": [
       "<div>\n",
       "<style scoped>\n",
       "    .dataframe tbody tr th:only-of-type {\n",
       "        vertical-align: middle;\n",
       "    }\n",
       "\n",
       "    .dataframe tbody tr th {\n",
       "        vertical-align: top;\n",
       "    }\n",
       "\n",
       "    .dataframe thead th {\n",
       "        text-align: right;\n",
       "    }\n",
       "</style>\n",
       "<table border=\"1\" class=\"dataframe\">\n",
       "  <thead>\n",
       "    <tr style=\"text-align: right;\">\n",
       "      <th></th>\n",
       "      <th>FIPS</th>\n",
       "      <th>County</th>\n",
       "      <th>State</th>\n",
       "    </tr>\n",
       "  </thead>\n",
       "  <tbody>\n",
       "    <tr>\n",
       "      <th>0</th>\n",
       "      <td>01001</td>\n",
       "      <td>Autauga</td>\n",
       "      <td>Alabama</td>\n",
       "    </tr>\n",
       "    <tr>\n",
       "      <th>1</th>\n",
       "      <td>01003</td>\n",
       "      <td>Baldwin</td>\n",
       "      <td>Alabama</td>\n",
       "    </tr>\n",
       "    <tr>\n",
       "      <th>2</th>\n",
       "      <td>01005</td>\n",
       "      <td>Barbour</td>\n",
       "      <td>Alabama</td>\n",
       "    </tr>\n",
       "  </tbody>\n",
       "</table>\n",
       "</div>"
      ],
      "text/plain": [
       "    FIPS   County    State\n",
       "0  01001  Autauga  Alabama\n",
       "1  01003  Baldwin  Alabama\n",
       "2  01005  Barbour  Alabama"
      ]
     },
     "execution_count": 25,
     "metadata": {},
     "output_type": "execute_result"
    }
   ],
   "source": [
    "cfips.State = cfips.State.map(f)\n",
    "cfips.FIPS = cfips.FIPS.map(lambda x: str(x).zfill(5))\n",
    "cfips.head(3)"
   ]
  },
  {
   "cell_type": "code",
   "execution_count": 26,
   "metadata": {},
   "outputs": [],
   "source": [
    "cfips = spark.createDataFrame(cfips.fillna(''))"
   ]
  },
  {
   "cell_type": "code",
   "execution_count": 27,
   "metadata": {},
   "outputs": [],
   "source": [
    "interp1 = (interp.join(cfips,interp.home_county==cfips.FIPS)\n",
    "                .drop(interp.home_county)\n",
    "          )"
   ]
  },
  {
   "cell_type": "code",
   "execution_count": 43,
   "metadata": {},
   "outputs": [],
   "source": [
    "k = fns.when(col('visit_percentage')>1,lit(1)).otherwise(col('visit_percentage'))\n",
    "\n",
    "interp2 = (interp1.join(covid,['County','State','date'],'left')\n",
    "        .select('date',\n",
    "            col('County').alias('home_county'),\n",
    "            col('State').alias('home_state'),\n",
    "            'visited_county',\n",
    "            (k*col('pop')).alias('number_visited'),\n",
    "            'confirmed',\n",
    "            col('pop').alias('home_pop')\n",
    "           )\n",
    ")"
   ]
  },
  {
   "cell_type": "code",
   "execution_count": 44,
   "metadata": {},
   "outputs": [],
   "source": [
    "interp3 = (interp2.join(copop.withColumnRenamed('county','visited_county')\n",
    "                            .withColumnRenamed('pop','visited_pop'),'visited_county')\n",
    "           .filter('date=20200212')\n",
    "           .join(cfips,interp2.visited_county==cfips.FIPS)\n",
    "           .drop('visited_county')\n",
    "           .withColumnRenamed('County','visited_county')\n",
    "           .withColumnRenamed('State','visited_state')           \n",
    "          )"
   ]
  },
  {
   "cell_type": "code",
   "execution_count": 45,
   "metadata": {},
   "outputs": [
    {
     "data": {
      "text/plain": [
       "272009"
      ]
     },
     "execution_count": 45,
     "metadata": {},
     "output_type": "execute_result"
    }
   ],
   "source": [
    "interp3.cache()\n",
    "interp3.count()"
   ]
  },
  {
   "cell_type": "code",
   "execution_count": 46,
   "metadata": {},
   "outputs": [
    {
     "name": "stdout",
     "output_type": "stream",
     "text": [
      "+--------+-----------+----------+------------------+---------+--------+-----------+-----+--------------+-------------+\n",
      "|    date|home_county|home_state|    number_visited|confirmed|home_pop|visited_pop| FIPS|visited_county|visited_state|\n",
      "+--------+-----------+----------+------------------+---------+--------+-----------+-----+--------------+-------------+\n",
      "|20200212|   Crawford|  Missouri| 44.55515994690182|     null|   23920|     108669|17099|      La Salle|     Illinois|\n",
      "|20200212|  Kalamazoo|  Michigan|38.212745884727575|     null|  265066|     108669|17099|      La Salle|     Illinois|\n",
      "|20200212|  Champaign|  Illinois| 266.5813374965326|     null|  209689|     108669|17099|      La Salle|     Illinois|\n",
      "|20200212|  St Joseph|   Indiana|105.34403517641317|     null|  271826|     108669|17099|      La Salle|     Illinois|\n",
      "|20200212| Des Moines|      Iowa|128.88437379945964|     null|   38967|     108669|17099|      La Salle|     Illinois|\n",
      "+--------+-----------+----------+------------------+---------+--------+-----------+-----+--------------+-------------+\n",
      "only showing top 5 rows\n",
      "\n"
     ]
    }
   ],
   "source": [
    "interp3.show(5)"
   ]
  },
  {
   "cell_type": "code",
   "execution_count": 47,
   "metadata": {},
   "outputs": [
    {
     "name": "stdout",
     "output_type": "stream",
     "text": [
      "+-----------+-----+\n",
      "|home_county|cases|\n",
      "+-----------+-----+\n",
      "|Santa Clara|  2.0|\n",
      "| San Benito|  2.0|\n",
      "|  San Diego|  1.0|\n",
      "|Los Angeles|  1.0|\n",
      "|     Orange|  1.0|\n",
      "+-----------+-----+\n",
      "\n"
     ]
    }
   ],
   "source": [
    "interp3.groupby('home_county').agg(fns.max('confirmed').alias('cases')).orderBy(col('cases').desc()).limit(5).show()"
   ]
  },
  {
   "cell_type": "code",
   "execution_count": 48,
   "metadata": {},
   "outputs": [],
   "source": [
    "vcts = interp3.filter('confirmed>0').select('FIPS').distinct().collect()"
   ]
  },
  {
   "cell_type": "code",
   "execution_count": 49,
   "metadata": {},
   "outputs": [],
   "source": [
    "from shapely import geometry as gm\n",
    "def get_geos(county_fips,val='none'):\n",
    "    std = {}\n",
    "    for i in cnty[cnty.GEOID.isin([i.FIPS for i in county_fips])].itertuples():\n",
    "            chng = 0 if val=='none' else [j[val] for j in county_fips if j.FIPS==i.GEOID][0]\n",
    "            if i.geometry.type=='Polygon' and len(gm.mapping(i.geometry)['coordinates'])==1:\n",
    "                s = np.array(gm.mapping(i.geometry.simplify(.001))['coordinates'][0])\n",
    "                lng,lat = ds.utils.lnglat_to_meters(s[:,0],s[:,1])        \n",
    "                std[i.NAME] = {'y':lat.tolist(),'x':lng.tolist(),'ST':i.NAME,'change':chng}\n",
    "\n",
    "            elif i.geometry.type=='Polygon' and len(gm.mapping(i.geometry)['coordinates'])>1:\n",
    "                holes = []\n",
    "                for n,c in enumerate(gm.mapping(i.geometry.simplify(.001))['coordinates']):\n",
    "                    if n==0:\n",
    "                        s = np.array(c)\n",
    "                        lng,lat = ds.utils.lnglat_to_meters(s[:,0],s[:,1])\n",
    "                    else:\n",
    "                        s = np.array(c)\n",
    "                        ln,lt = ds.utils.lnglat_to_meters(s[:,0],s[:,1])\n",
    "                        holes.append([list(i) for i in zip(ln,lt)])\n",
    "                #std[i.NAME] = {'lat':lat,'lng':lng,'ST':i.NAME,'holes':holes,'change':chng}\n",
    "                std[i.NAME] = {'y':lat.tolist(),'x':lng.tolist(),'ST':i.NAME,'holes':[holes],'change':chng}\n",
    "            else:\n",
    "                holes = []\n",
    "                for n,c in enumerate(gm.mapping(i.geometry.simplify(.001))['coordinates']):\n",
    "                    if len(c)>1:\n",
    "                        holes = []\n",
    "                        for n,k in enumerate(c):\n",
    "                            if n==0:\n",
    "                                s = np.array(k)\n",
    "                                lng,lat = ds.utils.lnglat_to_meters(s[:,0],s[:,1])\n",
    "                            else:\n",
    "                                s = np.array(k)\n",
    "                                ln,lt = ds.utils.lnglat_to_meters(s[:,0],s[:,1])\n",
    "                                holes.append([list(i) for i in zip(ln,lt)])\n",
    "                        std[i.NAME] = {'y':lat.tolist(),'x':lng.tolist(),'ST':i.NAME,'holes':[holes],'change':chng}\n",
    "                    else:\n",
    "                        s = np.array(c[0])\n",
    "                        lng,lat = ds.utils.lnglat_to_meters(s[:,0],s[:,1])\n",
    "                        #std[i.NAME+str(n)] = {'lat':lat,'lng':lng,'ST':i.NAME,'holes':[],'change':chng}\n",
    "                        std[i.NAME+str(n)] = {'y':lat.tolist(),'x':lng.tolist(),'ST':i.NAME,'change':chng}\n",
    "    return std\n",
    "\n",
    "std = get_geos(vcts)\n"
   ]
  },
  {
   "cell_type": "code",
   "execution_count": null,
   "metadata": {},
   "outputs": [],
   "source": [
    "hv.element.tiles.CartoLight()*hv.Polygons([v for k,v in std.items()],vdims=['ST']).opts(opts.Polygons(width=700, height=500,  tools=['hover', 'tap'],xaxis=None,color_index='change',clabel='change',\n",
    "                         cmap=\"Reds\",alpha=.5,\n",
    "                  yaxis=None))    "
   ]
  },
  {
   "cell_type": "markdown",
   "metadata": {},
   "source": [
    "<img src=\"img/visited_counties.png\">"
   ]
  },
  {
   "cell_type": "markdown",
   "metadata": {},
   "source": [
    "***"
   ]
  },
  {
   "cell_type": "markdown",
   "metadata": {},
   "source": [
    "## Step 3: Model Potential Spread\n",
    "<p>\n",
    "    Given that residents of infected counties travel to noninfected counties, we'd like to see how disease transmission could occur. Intercounty mobility allows for a view of computing potential infection rates as the sum of probabilities over residents of infected counties into a noninfected county. This estimate can then be used to compute the potential infected population and incorporated into a SIR model.\n",
    "</p>"
   ]
  },
  {
   "cell_type": "code",
   "execution_count": 52,
   "metadata": {},
   "outputs": [],
   "source": [
    "exp_infected = (col('confirmed')/col('home_pop'))*col('number_visited')\n",
    "\n",
    "infected = (interp3.groupby('visited_county','visited_state')\n",
    "    .agg(fns.sum(exp_infected).alias('expected_infected'))\n",
    "    .orderBy(col('expected_infected').desc())\n",
    "    .toPandas()\n",
    ")\n",
    "\n",
    "infectors = interp3.filter('confirmed>0').select('home_county','home_state').distinct().toPandas()\n",
    "\n",
    "inf = infected.merge(infectors,left_on=['visited_county','visited_state'],right_on=['home_county','home_state'],how='left')"
   ]
  },
  {
   "cell_type": "code",
   "execution_count": 54,
   "metadata": {},
   "outputs": [
    {
     "data": {
      "text/plain": [
       "<matplotlib.axes._subplots.AxesSubplot at 0x7f97324ff668>"
      ]
     },
     "execution_count": 54,
     "metadata": {},
     "output_type": "execute_result"
    },
    {
     "data": {
      "image/png": "[encoded data removed]",
      "text/plain": [
       "<Figure size 720x432 with 1 Axes>"
      ]
     },
     "metadata": {
      "needs_background": "light"
     },
     "output_type": "display_data"
    }
   ],
   "source": [
    "inf = inf[inf.home_county.isnull()]\n",
    "inf['location'] = inf.visited_county+', '+inf.visited_state\n",
    "fig,ax = plt.subplots(figsize=(10,6))\n",
    "ax.set_title('Expected Infected Persons')\n",
    "sns.barplot('expected_infected','location',data=inf[inf.expected_infected>0.01],orient=\"h\")"
   ]
  },
  {
   "cell_type": "code",
   "execution_count": 59,
   "metadata": {},
   "outputs": [],
   "source": [
    "infe = spark.createDataFrame(inf[inf.expected_infected>0])\n",
    "vcts = cfips.join(infe,((infe.visited_county==cfips.County) & (infe.visited_state==cfips.State))).select('FIPS','expected_infected').collect()"
   ]
  },
  {
   "cell_type": "code",
   "execution_count": null,
   "metadata": {},
   "outputs": [],
   "source": [
    "std = get_geos(vcts,'expected_infected')\n",
    "hv.element.tiles.CartoLight()*hv.Polygons([v for k,v in std.items()],vdims=['ST','change']).opts(opts.Polygons(width=700, height=500,  tools=['hover', 'tap'],xaxis=None,color_index='change',clabel='exp.infected',\n",
    "                         cmap=\"Blues\",alpha=.5,colorbar=True,\n",
    "                  yaxis=None))    "
   ]
  },
  {
   "cell_type": "markdown",
   "metadata": {},
   "source": [
    "<img src=\"img/expected_infected.png\">"
   ]
  },
  {
   "cell_type": "code",
   "execution_count": 38,
   "metadata": {},
   "outputs": [
    {
     "data": {
      "text/plain": [
       "109    1047279\n",
       "Name: POPESTIMATE2019, dtype: int64"
      ]
     },
     "execution_count": 38,
     "metadata": {},
     "output_type": "execute_result"
    }
   ],
   "source": [
    "co[co.CTYNAME.str.contains('Pima')].POPESTIMATE2019"
   ]
  },
  {
   "cell_type": "markdown",
   "metadata": {},
   "source": [
    "<br>\n",
    "<p>\n",
    "    We can now model the rate of infection and hospitalization for Pima County, AZ. We use the following parameters to model the rate spread of disease in a SIR epidemic model:\n",
    "    \n",
    "    - Infected count as .01068 persons\n",
    "    - Population of 1,047,279 and 50% are susceptible\n",
    "    - Contact rate of 2.5 persons\n",
    "    - Latency of 14 days\n",
    "</p>"
   ]
  },
  {
   "cell_type": "code",
   "execution_count": 30,
   "metadata": {},
   "outputs": [
    {
     "data": {
      "image/png": "[encoded data removed]",
      "text/plain": [
       "<Figure size 1152x432 with 1 Axes>"
      ]
     },
     "metadata": {},
     "output_type": "display_data"
    }
   ],
   "source": [
    "#https://scipython.com/book/chapter-8-scipy/additional-examples/the-sir-epidemic-model/\n",
    "\n",
    "%matplotlib inline\n",
    "import numpy as np\n",
    "from scipy.integrate import odeint\n",
    "import matplotlib.pyplot as plt\n",
    "\n",
    "# Total population, N.\n",
    "N = 1047279*.5\n",
    "# Initial number of infected and recovered individuals, I0 and R0.\n",
    "I0, R0 = .01608, 0\n",
    "# Everyone else, S0, is susceptible to infection initially.\n",
    "S0 = N - I0 - R0\n",
    "# Contact rate, beta, and mean recovery rate, gamma, (in 1/days).\n",
    "beta, gamma = 1/2.5, 1./14\n",
    "# A grid of time points (in days)\n",
    "t = np.linspace(0, 160, 160)\n",
    "\n",
    "# The SIR model differential equations.\n",
    "def deriv(y, t, N, beta, gamma):\n",
    "    S, I, R = y\n",
    "    dSdt = -beta * S * I / N\n",
    "    dIdt = beta * S * I / N - gamma * I\n",
    "    dRdt = gamma * I\n",
    "    return dSdt, dIdt, dRdt\n",
    "\n",
    "# Initial conditions vector\n",
    "y0 = S0, I0, R0\n",
    "# Integrate the SIR equations over the time grid, t.\n",
    "ret = odeint(deriv, y0, t, args=(N, beta, gamma))\n",
    "S, I, R = ret.T\n",
    "\n",
    "# Plot the data on three separate curves for S(t), I(t) and R(t)\n",
    "fig = plt.figure(facecolor='w', figsize=(16,6))\n",
    "ax = fig.add_subplot(111, axisbelow=True)\n",
    "ax.plot(t, S/N, 'b', alpha=0.5, lw=2, label='Susceptible')\n",
    "ax.plot(t, I/N, 'r', alpha=0.5, lw=2, label='Infected')\n",
    "ax.plot(t, R/N, 'g', alpha=0.5, lw=2, label='Recovered with immunity')\n",
    "ax.set_xlabel('Time /days')\n",
    "ax.set_ylabel('Number (1000s)')\n",
    "ax.set_ylim(0,1.2)\n",
    "ax.yaxis.set_tick_params(length=0)\n",
    "ax.xaxis.set_tick_params(length=0)\n",
    "ax.grid(b=True, which='major', c='w', lw=2, ls='-')\n",
    "legend = ax.legend()\n",
    "legend.get_frame().set_alpha(0.5)\n",
    "for spine in ('top', 'right', 'bottom', 'left'):\n",
    "    ax.spines[spine].set_visible(False)\n",
    "ax.set_title(\"Pima County, AZ Estimated Infections (Day 0 = 2020-02-12)\")\n",
    "plt.show()\n"
   ]
  },
  {
   "cell_type": "code",
   "execution_count": 61,
   "metadata": {},
   "outputs": [
    {
     "data": {
      "text/html": [
       "<div>\n",
       "<style scoped>\n",
       "    .dataframe tbody tr th:only-of-type {\n",
       "        vertical-align: middle;\n",
       "    }\n",
       "\n",
       "    .dataframe tbody tr th {\n",
       "        vertical-align: top;\n",
       "    }\n",
       "\n",
       "    .dataframe thead th {\n",
       "        text-align: right;\n",
       "    }\n",
       "</style>\n",
       "<table border=\"1\" class=\"dataframe\">\n",
       "  <thead>\n",
       "    <tr style=\"text-align: right;\">\n",
       "      <th></th>\n",
       "      <th>County</th>\n",
       "      <th>State</th>\n",
       "      <th>Lat</th>\n",
       "      <th>Lon</th>\n",
       "      <th>date</th>\n",
       "      <th>Confirmed</th>\n",
       "      <th>Deaths</th>\n",
       "      <th>Recovered</th>\n",
       "    </tr>\n",
       "  </thead>\n",
       "  <tbody>\n",
       "    <tr>\n",
       "      <th>940</th>\n",
       "      <td>Pima</td>\n",
       "      <td>Arizona</td>\n",
       "      <td>32.097133</td>\n",
       "      <td>-111.789003</td>\n",
       "      <td>20200322</td>\n",
       "      <td>17.0</td>\n",
       "      <td>0.0</td>\n",
       "      <td>0.0</td>\n",
       "    </tr>\n",
       "    <tr>\n",
       "      <th>2277</th>\n",
       "      <td>Pima</td>\n",
       "      <td>Arizona</td>\n",
       "      <td>32.097133</td>\n",
       "      <td>-111.789003</td>\n",
       "      <td>20200323</td>\n",
       "      <td>24.0</td>\n",
       "      <td>0.0</td>\n",
       "      <td>0.0</td>\n",
       "    </tr>\n",
       "    <tr>\n",
       "      <th>2277</th>\n",
       "      <td>Pima</td>\n",
       "      <td>Arizona</td>\n",
       "      <td>32.097133</td>\n",
       "      <td>-111.789003</td>\n",
       "      <td>20200324</td>\n",
       "      <td>42.0</td>\n",
       "      <td>1.0</td>\n",
       "      <td>0.0</td>\n",
       "    </tr>\n",
       "    <tr>\n",
       "      <th>2277</th>\n",
       "      <td>Pima</td>\n",
       "      <td>Arizona</td>\n",
       "      <td>32.097133</td>\n",
       "      <td>-111.789003</td>\n",
       "      <td>20200325</td>\n",
       "      <td>49.0</td>\n",
       "      <td>1.0</td>\n",
       "      <td>0.0</td>\n",
       "    </tr>\n",
       "    <tr>\n",
       "      <th>2276</th>\n",
       "      <td>Pima</td>\n",
       "      <td>Arizona</td>\n",
       "      <td>32.097133</td>\n",
       "      <td>-111.789003</td>\n",
       "      <td>20200326</td>\n",
       "      <td>75.0</td>\n",
       "      <td>1.0</td>\n",
       "      <td>0.0</td>\n",
       "    </tr>\n",
       "    <tr>\n",
       "      <th>2276</th>\n",
       "      <td>Pima</td>\n",
       "      <td>Arizona</td>\n",
       "      <td>32.097133</td>\n",
       "      <td>-111.789003</td>\n",
       "      <td>20200327</td>\n",
       "      <td>102.0</td>\n",
       "      <td>4.0</td>\n",
       "      <td>0.0</td>\n",
       "    </tr>\n",
       "  </tbody>\n",
       "</table>\n",
       "</div>"
      ],
      "text/plain": [
       "     County    State        Lat         Lon      date  Confirmed  Deaths  \\\n",
       "940    Pima  Arizona  32.097133 -111.789003  20200322       17.0     0.0   \n",
       "2277   Pima  Arizona  32.097133 -111.789003  20200323       24.0     0.0   \n",
       "2277   Pima  Arizona  32.097133 -111.789003  20200324       42.0     1.0   \n",
       "2277   Pima  Arizona  32.097133 -111.789003  20200325       49.0     1.0   \n",
       "2276   Pima  Arizona  32.097133 -111.789003  20200326       75.0     1.0   \n",
       "2276   Pima  Arizona  32.097133 -111.789003  20200327      102.0     4.0   \n",
       "\n",
       "      Recovered  \n",
       "940         0.0  \n",
       "2277        0.0  \n",
       "2277        0.0  \n",
       "2277        0.0  \n",
       "2276        0.0  \n",
       "2276        0.0  "
      ]
     },
     "execution_count": 61,
     "metadata": {},
     "output_type": "execute_result"
    }
   ],
   "source": [
    "usc[usc.County.fillna('').str.contains('Pima')]"
   ]
  },
  {
   "cell_type": "markdown",
   "metadata": {},
   "source": [
    "<p>\n",
    "The estimate above would suggest either a significant number of cases have not been tested and confirmed or that our model may need some fine tuning. In either case, population flows from an infected community can introduce a nontrivial amount of risk to noninfected communities.\n",
    "</p>"
   ]
  }
 ],
 "metadata": {
  "kernelspec": {
   "display_name": "Python 3",
   "language": "python",
   "name": "python3"
  },
  "language_info": {
   "codemirror_mode": {
    "name": "ipython",
    "version": 3
   },
   "file_extension": ".py",
   "mimetype": "text/x-python",
   "name": "python",
   "nbconvert_exporter": "python",
   "pygments_lexer": "ipython3",
   "version": "3.7.0"
  }
 },
 "nbformat": 4,
 "nbformat_minor": 4
}
